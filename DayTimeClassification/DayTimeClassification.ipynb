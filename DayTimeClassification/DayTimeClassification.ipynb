{
 "cells": [
  {
   "cell_type": "code",
   "execution_count": 1,
   "metadata": {},
   "outputs": [],
   "source": [
    "import cv2\n",
    "import numpy as np\n",
    "import matplotlib.pyplot as plt"
   ]
  },
  {
   "cell_type": "code",
   "execution_count": 2,
   "metadata": {},
   "outputs": [],
   "source": [
    "def video_saver(cap, output_path):\n",
    "    fps = cap.get(cv2.CAP_PROP_FPS)\n",
    "    height = int(cap.get(cv2.CAP_PROP_FRAME_HEIGHT))\n",
    "    width = int(cap.get(cv2.CAP_PROP_FRAME_WIDTH))\n",
    "    fourcc = cv2.VideoWriter_fourcc(*'XVID')  # Example codec\n",
    "    out = cv2.VideoWriter(output_path, fourcc, fps, (width,height))\n",
    "\n",
    "    return out\n",
    "    "
   ]
  },
  {
   "cell_type": "code",
   "execution_count": 34,
   "metadata": {},
   "outputs": [
    {
     "name": "stdout",
     "output_type": "stream",
     "text": [
      "End of video.\n",
      "Total no of frames: 522\n",
      "Evening is 77.20%\n",
      "Dusk is 5.36%\n",
      "Night is 17.43%\n"
     ]
    }
   ],
   "source": [
    "def VideoClassification(video_path, output_path):\n",
    "\n",
    "    cap = cv2.VideoCapture(video_path)\n",
    "    if not cap.isOpened():\n",
    "        print(\"Error opening the video\")\n",
    "        exit()\n",
    "\n",
    "    out = video_saver(cap, output_path)\n",
    "\n",
    "    frame_cnt, eve_cnt, dusk_cnt, night_cnt = 0,0,0,0\n",
    "    prediction = \"\"\n",
    "\n",
    "    while True:\n",
    "        ret, frame = cap.read()\n",
    "        \n",
    "        if not ret:\n",
    "            print(\"End of video.\")\n",
    "            break\n",
    "\n",
    "        frame_cnt += 1\n",
    "        image_hsv = cv2.cvtColor(frame, cv2.COLOR_BGR2HSV)\n",
    "        v = image_hsv[:, :, 2]\n",
    "        \n",
    "        eve_mask = (v > 110)\n",
    "        dusk_mask = (v >= 30) & (v <= 70)\n",
    "        night_mask = (v < 20)\n",
    "\n",
    "        eve_p = np.sum(eve_mask)/v.size * 100\n",
    "        dusk_p = np.sum(dusk_mask)/v.size * 100\n",
    "        night_p = np.sum(night_mask)/v.size * 100\n",
    "\n",
    "        if eve_p > dusk_p and eve_p > night_p:\n",
    "            eve_cnt += 1\n",
    "            prediction = \"Evening\"\n",
    "        elif dusk_p > eve_p and dusk_p > night_p:\n",
    "            dusk_cnt += 1\n",
    "            prediction = \"Dusk\"\n",
    "        else:\n",
    "            night_cnt += 1\n",
    "            prediction = \"Night\"\n",
    "\n",
    "        text = f\"Evening: {eve_p:.2f}%  |   Dusk: {dusk_p:.2f}% |   Night: {night_p:.2f}%\"\n",
    "        pred_text = f\"Prediction: {prediction}\"\n",
    "        cv2.putText(img=frame, text=text, org=(10,50), fontFace=cv2.FONT_HERSHEY_COMPLEX, color = (255, 255, 255), fontScale=0.7)\n",
    "        cv2.putText(img=frame, text=pred_text, org=(10,100), fontFace=cv2.FONT_HERSHEY_COMPLEX, color = (255, 255, 255), fontScale=0.7)\n",
    "        \n",
    "        frame_resized = cv2.resize(frame, (1024, 800), interpolation= cv2.INTER_LINEAR)\n",
    "\n",
    "        cv2.imshow(\"video\",frame_resized)\n",
    "        out.write(frame)\n",
    "\n",
    "        if cv2.waitKey(10) & 0xFF == ord('q'):\n",
    "            break;\n",
    "\n",
    "    cap.release()\n",
    "    out.release()\n",
    "    cv2.destroyAllWindows()\n",
    "    \n",
    "    print(f\"Total no of frames: {frame_cnt}\")\n",
    "    per_split = {time_of_day : (cnt/frame_cnt)*100 for time_of_day, cnt in zip([\"Evening\", \"Dusk\", \"Night\"], [eve_cnt, dusk_cnt, night_cnt])}\n",
    "    for time, per in per_split.items():\n",
    "        print(f\"{time} is {per:.2f}%\")\n",
    "\n",
    "    return\n",
    "\n",
    "video_path = \"C:\\\\AI_ML\\\\ComputerVisionBootCamp\\\\Assignments\\\\data\\\\Input_video.mp4\"\n",
    "output_path = \"C:\\\\AI_ML\\\\ComputerVisionBootCamp\\\\Assignments\\\\data\\\\pred_video.mp4\"\n",
    "\n",
    "VideoClassification(video_path, output_path)\n"
   ]
  },
  {
   "cell_type": "code",
   "execution_count": null,
   "metadata": {},
   "outputs": [],
   "source": []
  }
 ],
 "metadata": {
  "kernelspec": {
   "display_name": "cv_live",
   "language": "python",
   "name": "python3"
  },
  "language_info": {
   "codemirror_mode": {
    "name": "ipython",
    "version": 3
   },
   "file_extension": ".py",
   "mimetype": "text/x-python",
   "name": "python",
   "nbconvert_exporter": "python",
   "pygments_lexer": "ipython3",
   "version": "3.11.10"
  }
 },
 "nbformat": 4,
 "nbformat_minor": 2
}
